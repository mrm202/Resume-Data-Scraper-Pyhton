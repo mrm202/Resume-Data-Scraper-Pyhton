{
  "nbformat": 4,
  "nbformat_minor": 0,
  "metadata": {
    "colab": {
      "name": "Untitled4.ipynb",
      "provenance": []
    },
    "kernelspec": {
      "name": "python3",
      "display_name": "Python 3"
    },
    "language_info": {
      "name": "python"
    }
  },
  "cells": [
    {
      "cell_type": "code",
      "metadata": {
        "id": "GnAVzE-55cc6"
      },
      "source": [
        "import spacy\n",
        "import pickle\n",
        "import random"
      ],
      "execution_count": null,
      "outputs": []
    },
    {
      "cell_type": "code",
      "metadata": {
        "id": "c9sEB8wrA5VA"
      },
      "source": [
        "#!pip install spacy\n",
        "#!pip install pickle\n",
        "#!pip install PyMuPDF"
      ],
      "execution_count": null,
      "outputs": []
    },
    {
      "cell_type": "code",
      "metadata": {
        "id": "Ewa6_goW5sfu"
      },
      "source": [
        "train_data = pickle.load(open('/content/train_data.pkl','rb'))"
      ],
      "execution_count": null,
      "outputs": []
    },
    {
      "cell_type": "code",
      "metadata": {
        "colab": {
          "base_uri": "https://localhost:8080/"
        },
        "id": "eSAuT6me7Gmh",
        "outputId": "51a961a0-db24-4b9e-ccde-40034eb44e28"
      },
      "source": [
        "train_data[3]"
      ],
      "execution_count": null,
      "outputs": [
        {
          "output_type": "execute_result",
          "data": {
            "text/plain": [
              "('Jatin Arora SDET Automation Engineer, Infosys - CRD (Capital Group of Companies)  Pehowa, Haryana - Email me on Indeed: indeed.com/r/Jatin-Arora/a124b9609f62fbcb  3.6 years of experience in Automation Testing tools like Selenium (C#), Java, dot Net Technology and other Testing tools like JIRA, QC. Proficient in testing on Client/Server and Web-based with good experience in creating the Test Plan and testing framework  • Experience in SQA including Selenium with data driven framework. • Experience in working on C# and dot net technologies. • Automated the Test data creation using Selenium as value added service for a client which is being used by the client and bought 30% cost reduction in data setup. • Developed Test Case Generator as value added services for client which reduced time and cost by 45% being spent on data creation and provide more productivity. • Developed an Infosys Go Safe Android App during participation in Global Hackathon • Excellent communications skills and able to liaise with key customer contacts and vendors to resolve software issues. • Having excellent problem solving and analytical skills  Competencies Developed:  Selenium WebDriver C# ADO.Net SQL HTML, CSS Java Unix Quality Center Atlassian JIRA MTM Microsoft SQL Server Visual Studio Rapid SQL Toad Confluence Eclipse Visual Studio BitBucket NUnit MindMaps  Testing Skills: SDLC, STLC, Test Planning, Requirement Analysis, Agile Methodology, DevOps Methodology, Scrum, Waterfall, Software Quality, Defect Tracking, Regression Testing, System Testing  WORK EXPERIENCE  SDET Automation Engineer, Infosys  CRD (Capital Group of Companies) -  Chandigarh, Chandigarh -  February 2017 to Present  CRD (Charles River Development IMS automates the compliance workflow and provides centralized compliance monitoring and management. The highly scalable compliance engine supports very high volumes of trades, compliance rules, accounts and group of accounts.  • Design and implemented test scenarios, test cases, QA processes and procedures. • Automated and delivered high quality automation scripts using C#. • Writing SQL queries to validate data from database. • Used BitBucket for code repository. • Communication with stakeholder for business and functional requirements  https://www.indeed.com/r/Jatin-Arora/a124b9609f62fbcb?isid=rex-download&ikw=download-top&co=IN   • Perform requirements analysis and impact analysis for enhancements and changes • Creating weekly Test Unit creation and execution report  Infosys Training, Test Engineer Trainee  Next Generation Volume Licensing (Microsoft) -  Mysore, Karnataka -  August 2014 to November 2014  A detailed hands on training of C# and SQL concepts and testing training.  Test Engineer, Infosys  Next Generation Volume Licensing (Microsoft) -  Hyderabad, Telangana -  April 2014 to November 2014  Jan 2017  Project Next Generation Volume Licensing (NGVL) is a strategic change initiative led by World Wide Licensing &amp; Pricing (WWLP), Operations, MSIT, and Worldwide Operations in partnership with EPG, SMS&amp;P, and WPG to transform the Volume Licensing business so that it can scale for the next 20 years, compete more quickly in new markets, and deliver a superior licensing experience for our customers, partners, sellers, and operations personnel.  • Designed and implemented test scenarios, test cases, QA processes and procedures. • Automated and delivered high quality automation scripts with Selenium using C#. • Preparing SQLs for validating data in database. • Communicated with stakeholder for business and functional requirements • Performed requirement analysis and impact analysis for enhancements and changes • Logging and tracking defects and preparing backlog report • Created weekly Test Unit creation and execution report • Performed peer reviews and estimates which helped to automate 95% web site automation  EDUCATION  B.Sc in Computer Science  Kurukshetra University -  Kurukshetra, Haryana  Tagore Public School -  Pehowa, Haryana',\n",
              " {'entities': [(3909, 3931, 'College Name'),\n",
              "   (3883, 3908, 'Degree'),\n",
              "   (1566, 1590, 'Designation'),\n",
              "   (886, 895, 'Companies worked at'),\n",
              "   (119, 161, 'Email Address'),\n",
              "   (82, 88, 'Location'),\n",
              "   (37, 46, 'Companies worked at'),\n",
              "   (12, 36, 'Designation'),\n",
              "   (0, 11, 'Name')]})"
            ]
          },
          "metadata": {},
          "execution_count": 41
        }
      ]
    },
    {
      "cell_type": "code",
      "metadata": {
        "id": "_FLmUqCS7QcR"
      },
      "source": [
        "nlp = spacy.blank('en')\n",
        "def train_model(train_data):\n",
        "  if 'ner' not in nlp.pipe_names:\n",
        "    ner = nlp.create_pipe('ner')\n",
        "    nlp.add_pipe(ner,last=True)\n",
        "  for _, annotation in train_data:\n",
        "    for ent in annotation['entities']:\n",
        "      ner.add_label(ent[2])\n",
        "  other_pipes = [pipe for pipe in nlp.pipe_names if pipe!='ner']\n",
        "  with nlp.disable_pipes(*other_pipes):\n",
        "    optimizer = nlp.begin_training()\n",
        "    for itn in range(10):\n",
        "      print(\"Starting iteration\" + str(itn))\n",
        "      random.shuffle(train_data)\n",
        "      losses = {}\n",
        "      index=0\n",
        "      for text, annotations in train_data:\n",
        "        try:\n",
        "          nlp.update(\n",
        "              [text],\n",
        "              [annotations],\n",
        "              drop=0.2,\n",
        "              sgd=optimizer,\n",
        "              losses=losses)\n",
        "        except Exception as e:\n",
        "          pass\n",
        "  \n",
        "\n",
        "          \n"
      ],
      "execution_count": null,
      "outputs": []
    },
    {
      "cell_type": "code",
      "metadata": {
        "colab": {
          "base_uri": "https://localhost:8080/"
        },
        "id": "sP2S7lhJ9tqc",
        "outputId": "96a21dbc-dc10-416c-8035-5b9ea6806955"
      },
      "source": [
        "train_model(train_data)"
      ],
      "execution_count": null,
      "outputs": [
        {
          "output_type": "stream",
          "name": "stdout",
          "text": [
            "Starting iteration0\n",
            "Starting iteration1\n",
            "Starting iteration2\n",
            "Starting iteration3\n",
            "Starting iteration4\n",
            "Starting iteration5\n",
            "Starting iteration6\n",
            "Starting iteration7\n",
            "Starting iteration8\n",
            "Starting iteration9\n"
          ]
        }
      ]
    },
    {
      "cell_type": "code",
      "metadata": {
        "id": "iWY9S7c4-ljN"
      },
      "source": [
        "nlp.to_disk('nlp_model')"
      ],
      "execution_count": null,
      "outputs": []
    },
    {
      "cell_type": "code",
      "metadata": {
        "id": "oCb6BP_m-2UF"
      },
      "source": [
        "nlp_model = spacy.load('nlp_model')"
      ],
      "execution_count": null,
      "outputs": []
    },
    {
      "cell_type": "code",
      "metadata": {
        "colab": {
          "base_uri": "https://localhost:8080/"
        },
        "id": "Aa2bjQd2-_WA",
        "outputId": "31685e31-1db7-4d71-9270-f2828dafae39"
      },
      "source": [
        "train_data[1]"
      ],
      "execution_count": null,
      "outputs": [
        {
          "output_type": "execute_result",
          "data": {
            "text/plain": [
              "('Yogi Pesaru Developer - Infosys Limited  Hyderabad, Telangana - Email me on Indeed: indeed.com/r/Yogi-Pesaru/2ed7aded59ecf425  • Total IT experience of 4.6 years in IT Industry. • Currently working as SAP PI/XI and Dell Boomi developer. • Good communication, interpersonal and Client interaction skills with clear understanding of the requirements. • Trained on SAP ABAP, SAP BASIS, SAP HANA (HCI), DELL Boomi. • Worked on PI 7.1, 7.31, Dell Boomi Atomsphere. • Good knowledge of Core Java and good command in writing UDFs for Graphical Mapping. • Created Technical systems, Business systems and Software products and components in SLD. • Worked on SLD configurations, IR and ID. • Good capabilities of trouble shooting and resolving different kinds of issues like connectivity problems, mapping exceptions etc. • Experience in working with FILE, SOAP, SOAP (AXIS), RFC, IDOC and XI, JMS, JDBC, ARIBA, REST in PI and File, SOAP, Successfactor, Salesforce connectors in Boomi. • Implemented standard features like UDMS, message prioritization, iChannel admin. • Worked on Transports of IR, ID and SLD objects using file and CTS+ transports. • Good knowledge of Graphical Mapping with node functions and UDFs. • Knowledge of XSLT and Java mapping and Dynamic Configuration. • Production support experience in Runtime workbench, communication channel scheduling, Message Monitoring. • Good knowledge on SLD configuration, IDoc configuration in ECC and PI and alert configuration. • Experience in handling quarterly and emergency releases and providing post release support.  WORK EXPERIENCE  Developer  Infosys Limited -  October 2015 to Present  Infosys Limited Senior Systems Engineer 01st Oct 2015 - till date  PROJECT SUMMARY - BOOMI Project Name Success factor integration with Sterling Client SYSCO Employer Infosys Limited Role Developer Team Size 3 members Technologies Java script, groovy script, SuccessFactor, Sterling, Webservice Duration 2 years  Project Abstract:  https://www.indeed.com/r/Yogi-Pesaru/2ed7aded59ecf425?isid=rex-download&ikw=download-top&co=IN   The integration for Sterling is a two-way integration to support the investigation and confirm accuracy of background information provided by selected candidates who have received have passed phone screening & or accepted verbal offers of employment.  Boomi is the middle ware between success factor and sterling systems. Boomi sender interface picks up the profiles from SF and send to sterling for background verification. After receiving request from boomi sterling will send synchronous response with an Oder number, which will be updated to SF synchronously. After some time boomi receiver process (listener process) receives the asynchronous results from sterling which are updated back to SF.  Role and responsibilities:  • Requirement analysis. • Design as per the requirement. • Process development as per design. • Unit testing the applications.  PROJECT SUMMARY - PI Project Sysco MS Development  Systems Engineer  Infosys Limited -  September 2013 to September 2015  EDUCATION  B. Tech in ECE  Vidya Bharati Institute Of Technology -  Hindupur, Andhra Pradesh  2008 to 2012  Hosanna National High School  2006  SKILLS  C+ (Less than 1 year), Citrix (Less than 1 year), integration (2 years), INTEGRATOR (2 years), Java (2 years)  ADDITIONAL INFORMATION  TECHNICAL PROFICIENCY  Integration Tools SAP PI (7.1, 7.31), Eclipse, Citrix, SQL Server Data, SOAP UI, NWDS, Solution Manager, HPQC, POSTMAN Backend Technologies Oracle and MS SQL. Languages Core Java, C++, C.    KEY STRENGTHS • Initiative, Leadership Qualities and Team spirit. • Proficiency in Communication skills, Positive attitude. • Good knowledge about Technology and interest towards new learning. • Responsibility and patience to do work assigned by superiors.',\n",
              " {'entities': [(3748, 3809, 'Skills'),\n",
              "   (3679, 3745, 'Skills'),\n",
              "   (3621, 3675, 'Skills'),\n",
              "   (3569, 3617, 'Skills'),\n",
              "   (3204, 3314, 'Skills'),\n",
              "   (3190, 3194, 'Graduation Year'),\n",
              "   (3160, 3188, 'College Name'),\n",
              "   (3154, 3158, 'Graduation Year'),\n",
              "   (3079, 3128, 'College Name'),\n",
              "   (3063, 3078, 'Degree'),\n",
              "   (1832, 1841, 'Designation'),\n",
              "   (1811, 1827, 'Companies worked at'),\n",
              "   (1589, 1598, 'Designation'),\n",
              "   (152, 161, 'Years of Experience'),\n",
              "   (84, 126, 'Email Address'),\n",
              "   (41, 50, 'Location'),\n",
              "   (24, 40, 'Companies worked at'),\n",
              "   (12, 21, 'Designation'),\n",
              "   (0, 11, 'Name')]})"
            ]
          },
          "metadata": {},
          "execution_count": 42
        }
      ]
    },
    {
      "cell_type": "code",
      "metadata": {
        "colab": {
          "base_uri": "https://localhost:8080/",
          "height": 154
        },
        "id": "zsTNwN0CHUH0",
        "outputId": "b7415b21-39b5-430a-988e-02fa5cb72c5c"
      },
      "source": [
        "train_data[0][0]"
      ],
      "execution_count": null,
      "outputs": [
        {
          "output_type": "execute_result",
          "data": {
            "application/vnd.google.colaboratory.intrinsic+json": {
              "type": "string"
            },
            "text/plain": [
              "\"Prem Koshti Officer-HR & Administration in H.& R. Johnson (India) - SAP - R  Dewas, Madhya Pradesh - Email me on Indeed: indeed.com/r/Prem-Koshti/a1fec9e7289496f0  ❖ To acquire a key Position in Human Resource Management / SAP field by continuously improving knowledge and skills. ❖ Very strong logical, analytical skills with vast experience in MS-EXCEL. ❖ Very energetic, hardworking and highly self-motivated team player with strong problem solving skills and very good communication and leadership skills. Very flexible.  Projects:- Project Name: SAP HR, Employee Administration Client: H.& R. Johnson (India) [A Division of Prism Cement Limited], DEWAS (M.P.)  WORK EXPERIENCE  Officer-HR & Administration in H.& R. Johnson (India)  SAP - R -  Dewas, Madhya Pradesh -  July 2002 to Present  - SAP - R/3, 06 years' experience in SAP HR-Functional Module Current Employer: Presently working as Officer-HR & Administration in H.& R. Johnson (India), [A Division of Prism Cement Limited], DEWAS (M.P.) from 30.07.2002 to till date.  EDUCATION  B.Com. in Dr. Harisingh Gour V.V  Polytechnic College Damoh -  Sagar, Madhya Pradesh  1990  SKILLS  HR (10+ years), SAP (10+ years), APPRAISAL (Less than 1 year), BUYING/PROCUREMENT (Less than 1 year), DATABASE (Less than 1 year)  ADDITIONAL INFORMATION  Technical skills: SAP HR Module. Description:- Maintaining electronic punching system, Daily Production MIS Report, Monthly Manpower report. I.F. Annual Returns, Form-5 Holiday wages. Employee's gratuity policy updation. Maintaining all record's & document related to personal / HR department, Employees data bank. Employees leave, attendance, c-off, absenteeism statement. Payroll Preparation, Bonus,  https://www.indeed.com/r/Prem-Koshti/a1fec9e7289496f0?isid=rex-download&ikw=download-top&co=IN   Overtime, Attendance Incentive, Production Incentive, Arrear Wages, Wage slip, Full & Final Settlement, No Dues Certificate, Issue of certificate if any, ID / Punching card, Birth day card etc.  Roles and responsibilities: Personal & HR Functions:  ✓ Performance Appraisal / Increments preparation co-ordination.  ✓ Computerized Time Office Management, HR Policy.  ✓ Handle Payroll on SAP & responsible for smooth functioning of payroll cycle.  ✓ Maintain employee data on SAP and updates them as and when required  ✓ Reconciling statutory reports i.e. PF, ESIC, and coordinating with Finance Team for timely payment.  ✓ Production & manpower MIS data in MS-Excel daily, Monthly & Yearly basis.  ✓ Performing of Exit Formalities and processing Full and Final Settlement for exit cases.  ✓ Maintain Attendance record in Electronic Punching Machine.  ✓ Joining Formalities (Pre & Post recruitment activities)  General Administration  Office stationery, Telephones, Fax, Computers, Reception, Purchasing First Aid, mineral water, biscuits etc  Technical Expertise Front End Tool Languages SAP Technologies HR and Administration Functional Module Database FOXPRO 6.22 Concepts OOP'S, Networking, DBMS, Operating System. Operating System MS-Dos […] & MS OFFICE 2007, 2008 & 2010  TRAININGIG PROGRAMME & CONFERENCE ATTENDED:  ❖ First Aid Procedure conducted by St. John Ambulance Association.  ❖ Fire Fighting by Usha Fire Safety.  ❖ Interpersonal Skills, Communication, Motivational related various Training programmes organize.  ❖ SAP - HR Module conducted by Covansys, Mumbai.    ❖ Internal Auditors Training Program on Environmental & Occupational Health & Safety Management System\""
            ]
          },
          "metadata": {},
          "execution_count": 44
        }
      ]
    },
    {
      "cell_type": "code",
      "metadata": {
        "colab": {
          "base_uri": "https://localhost:8080/"
        },
        "id": "vawPv6m2HW-6",
        "outputId": "a73019ad-63ee-44f5-b700-f4d14b0db3b8"
      },
      "source": [
        "train_data[0][1]"
      ],
      "execution_count": null,
      "outputs": [
        {
          "output_type": "execute_result",
          "data": {
            "text/plain": [
              "{'entities': [(3327, 3330, 'Companies worked at'),\n",
              "  (2886, 2889, 'Companies worked at'),\n",
              "  (2861, 3074, 'Skills'),\n",
              "  (2273, 2276, 'Companies worked at'),\n",
              "  (2185, 2188, 'Companies worked at'),\n",
              "  (1318, 1321, 'Companies worked at'),\n",
              "  (1161, 1164, 'Companies worked at'),\n",
              "  (1145, 1274, 'Skills'),\n",
              "  (897, 950, 'Designation'),\n",
              "  (833, 836, 'Companies worked at'),\n",
              "  (798, 801, 'Companies worked at'),\n",
              "  (749, 754, 'Location'),\n",
              "  (738, 741, 'Companies worked at'),\n",
              "  (683, 736, 'Designation'),\n",
              "  (551, 554, 'Companies worked at'),\n",
              "  (223, 226, 'Companies worked at'),\n",
              "  (120, 162, 'Email Address'),\n",
              "  (77, 82, 'Location'),\n",
              "  (68, 71, 'Companies worked at'),\n",
              "  (12, 65, 'Designation'),\n",
              "  (0, 11, 'Name')]}"
            ]
          },
          "metadata": {},
          "execution_count": 39
        }
      ]
    },
    {
      "cell_type": "code",
      "metadata": {
        "colab": {
          "base_uri": "https://localhost:8080/"
        },
        "id": "VpSbgUlI_D8a",
        "outputId": "82ef656b-fea0-4a56-e1a5-bb7299d94c38"
      },
      "source": [
        "print(train_data[0][0])\n",
        "doc = nlp_model(train_data[0][0])\n",
        "for ent in doc.ents:\n",
        "  print(f'{ent.label_.upper():{30}}-{ent.text}')"
      ],
      "execution_count": null,
      "outputs": [
        {
          "output_type": "stream",
          "name": "stdout",
          "text": [
            "Prem Koshti Officer-HR & Administration in H.& R. Johnson (India) - SAP - R  Dewas, Madhya Pradesh - Email me on Indeed: indeed.com/r/Prem-Koshti/a1fec9e7289496f0  ❖ To acquire a key Position in Human Resource Management / SAP field by continuously improving knowledge and skills. ❖ Very strong logical, analytical skills with vast experience in MS-EXCEL. ❖ Very energetic, hardworking and highly self-motivated team player with strong problem solving skills and very good communication and leadership skills. Very flexible.  Projects:- Project Name: SAP HR, Employee Administration Client: H.& R. Johnson (India) [A Division of Prism Cement Limited], DEWAS (M.P.)  WORK EXPERIENCE  Officer-HR & Administration in H.& R. Johnson (India)  SAP - R -  Dewas, Madhya Pradesh -  July 2002 to Present  - SAP - R/3, 06 years' experience in SAP HR-Functional Module Current Employer: Presently working as Officer-HR & Administration in H.& R. Johnson (India), [A Division of Prism Cement Limited], DEWAS (M.P.) from 30.07.2002 to till date.  EDUCATION  B.Com. in Dr. Harisingh Gour V.V  Polytechnic College Damoh -  Sagar, Madhya Pradesh  1990  SKILLS  HR (10+ years), SAP (10+ years), APPRAISAL (Less than 1 year), BUYING/PROCUREMENT (Less than 1 year), DATABASE (Less than 1 year)  ADDITIONAL INFORMATION  Technical skills: SAP HR Module. Description:- Maintaining electronic punching system, Daily Production MIS Report, Monthly Manpower report. I.F. Annual Returns, Form-5 Holiday wages. Employee's gratuity policy updation. Maintaining all record's & document related to personal / HR department, Employees data bank. Employees leave, attendance, c-off, absenteeism statement. Payroll Preparation, Bonus,  https://www.indeed.com/r/Prem-Koshti/a1fec9e7289496f0?isid=rex-download&ikw=download-top&co=IN   Overtime, Attendance Incentive, Production Incentive, Arrear Wages, Wage slip, Full & Final Settlement, No Dues Certificate, Issue of certificate if any, ID / Punching card, Birth day card etc.  Roles and responsibilities: Personal & HR Functions:  ✓ Performance Appraisal / Increments preparation co-ordination.  ✓ Computerized Time Office Management, HR Policy.  ✓ Handle Payroll on SAP & responsible for smooth functioning of payroll cycle.  ✓ Maintain employee data on SAP and updates them as and when required  ✓ Reconciling statutory reports i.e. PF, ESIC, and coordinating with Finance Team for timely payment.  ✓ Production & manpower MIS data in MS-Excel daily, Monthly & Yearly basis.  ✓ Performing of Exit Formalities and processing Full and Final Settlement for exit cases.  ✓ Maintain Attendance record in Electronic Punching Machine.  ✓ Joining Formalities (Pre & Post recruitment activities)  General Administration  Office stationery, Telephones, Fax, Computers, Reception, Purchasing First Aid, mineral water, biscuits etc  Technical Expertise Front End Tool Languages SAP Technologies HR and Administration Functional Module Database FOXPRO 6.22 Concepts OOP'S, Networking, DBMS, Operating System. Operating System MS-Dos […] & MS OFFICE 2007, 2008 & 2010  TRAININGIG PROGRAMME & CONFERENCE ATTENDED:  ❖ First Aid Procedure conducted by St. John Ambulance Association.  ❖ Fire Fighting by Usha Fire Safety.  ❖ Interpersonal Skills, Communication, Motivational related various Training programmes organize.  ❖ SAP - HR Module conducted by Covansys, Mumbai.    ❖ Internal Auditors Training Program on Environmental & Occupational Health & Safety Management System\n",
            "NAME                          -Prem Koshti\n",
            "LOCATION                      -Officer\n",
            "COMPANIES WORKED AT           -SAP -\n",
            "LOCATION                      -Dewas\n",
            "EMAIL ADDRESS                 -indeed.com/r/Prem-Koshti/a1fec9e7289496f0\n",
            "COMPANIES WORKED AT           -SAP HR\n",
            "COMPANIES WORKED AT           -SAP\n",
            "DEGREE                        -B.Com. in Dr. Harisingh Gour V.V\n",
            "COLLEGE NAME                  -Polytechnic College Damoh\n",
            "SKILLS                        -HR (10+ years), SAP (10+ years), APPRAISAL (Less than 1 year), BUYING/PROCUREMENT (Less than 1 year), DATABASE (Less than 1 year)\n",
            "SKILLS                        -Technical skills: SAP HR Module. Description:- Maintaining electronic punching system, Daily Production MIS Report, Monthly Manpower report. I.F. Annual Returns, Form-5 Holiday wages. Employee's gratuity policy updation. Maintaining all record's & document related to personal / HR department, Employees data bank. Employees leave, attendance, c-off, absenteeism statement. Payroll Preparation, Bonus,\n",
            "SKILLS                        -❖ First Aid Procedure conducted by St. John Ambulance Association.\n"
          ]
        }
      ]
    },
    {
      "cell_type": "code",
      "metadata": {
        "colab": {
          "base_uri": "https://localhost:8080/"
        },
        "id": "QAVjcomc_4P5",
        "outputId": "2dfacde9-9b5e-42ae-ce2d-f7d71151ac47"
      },
      "source": [
        "import sys,fitz\n",
        "doc=fitz.open('/content/cvsample1.pdf')\n",
        "text = \"\"\n",
        "for page in doc:\n",
        "  text = text + str(page.getText())\n",
        "\n",
        "text= \" \".join(text.split('\\n'))\n",
        "print(text)\n",
        "\n",
        "\n"
      ],
      "execution_count": null,
      "outputs": [
        {
          "output_type": "stream",
          "name": "stdout",
          "text": [
            "  Christopher  Morgan  Contact  Address:  177 Great Portland Street, London  W5W 6PQ    Phone:  +44 (0)20 7666 8555     Email:  christoper.m@gmail.com    LinkedIn:  linkedin.com/christopher.morgan  Languages  Spanish – C2  Chinese – A1  German – A2  Hobbies   Writing   Sketching   Photography   Design  Summary  Senior Web Developer specializing in front end development.  Experienced with all stages of the development cycle for  dynamic web projects. Well-versed in numerous programming  languages including HTML5, PHP OOP, JavaScript, CSS, MySQL.  Strong background in project management and customer  relations.  Skill Highlights   Project management   Strong decision maker   Complex problem  solver   Creative design   Innovative   Service-focused  Experience  Web Developer - 09/2015 to 05/2019  Luna Web Design, New York   Cooperate with designers to create clean interfaces and  simple, intuitive interactions and experiences.   Develop project concepts and maintain optimal  workflow.   Work with senior developer to manage large, complex  design projects for corporate clients.   Complete detailed programming and development tasks  for front end public and internal websites as well as  challenging back-end server code.   Carry out quality assurance tests to discover errors and  optimize usability.  Education  Bachelor of Science: Computer Information Systems - 2014  Columbia University, NY  Certifications  PHP Framework (certificate): Zend, Codeigniter, Symfony.  Programming Languages: JavaScript, HTML5, PHP OOP, CSS,  SQL, MySQL.      \n"
          ]
        },
        {
          "output_type": "stream",
          "name": "stderr",
          "text": [
            "Deprecation: 'getText' removed from class 'Page' after v1.19.0 - use 'get_text'.\n"
          ]
        }
      ]
    },
    {
      "cell_type": "code",
      "metadata": {
        "colab": {
          "base_uri": "https://localhost:8080/"
        },
        "id": "6KxkQNCQAA5J",
        "outputId": "a39fc433-eb49-4b68-9e7c-21e0cf2ebf43"
      },
      "source": [
        "doc = nlp_model(text)\n",
        "for ent in doc.ents:\n",
        "  print(f'{ent.label_.upper():{30}}-{ent.text}')"
      ],
      "execution_count": null,
      "outputs": [
        {
          "output_type": "stream",
          "name": "stdout",
          "text": [
            "DEGREE                        -Christopher\n",
            "DEGREE                        -Bachelor of Science: Computer Information Systems\n"
          ]
        }
      ]
    },
    {
      "cell_type": "code",
      "metadata": {
        "colab": {
          "base_uri": "https://localhost:8080/"
        },
        "id": "NrzFfvpYCO_U",
        "outputId": "18e493e2-1062-4827-cb06-9223705f8de2"
      },
      "source": [
        "import sys,fitz\n",
        "doc=fitz.open('/content/undergraduatecvandresumesamples.pdf')\n",
        "text = \"\"\n",
        "for page in doc:\n",
        "  text = text + str(page.getText())\n",
        "\n",
        "text= \" \".join(text.split('\\n'))\n",
        "doc = nlp_model(text)\n",
        "for ent in doc.ents:\n",
        "  print(f'{ent.label_.upper():{30}}-{ent.text}')\n"
      ],
      "execution_count": null,
      "outputs": [
        {
          "output_type": "stream",
          "name": "stdout",
          "text": [
            "COLLEGE NAME                  -Undergraduate Curriculum Vitae (CV) and Résumé Samples\n",
            "DEGREE                        -University of South Florida, Tampa, FL\n",
            "DEGREE                        -Bachelor of Science, Biomedical Science\n",
            "COLLEGE NAME                  -GPA: 3.75\n",
            "SKILLS                        -Computer: Proficient in Windows and Mac OS, Microsoft Word, PowerPoint, and Excel  Language: Intermediate Skills in Spanish  Social Media: Facebook, Twitter, Instagram  Freshmen/Sophomore CV     Rocky D. Bull  4202 E. Fowler Ave., Tampa, FL   nationalscholarships@usf.edu\n",
            "DEGREE                        -University of South Florida, Tampa, FL\n",
            "DEGREE                        -Bachelor of Science, Biomedical Science\n",
            "COLLEGE NAME                  -GPA: 3.8\n",
            "SKILLS                        -Language: Fluent in Spanish                                     Rocky D. Bull  4202 E. Fowler Ave., Tampa, FL   nationalscholarships@usf.edu\n",
            "DEGREE                        -Bachelor of Science, Sociology, May 2017\n",
            "SKILLS                        - Fluent in Spanish   Proficient in Microsoft Word, Excel, Outlook and PowerPoint   Knowledge of Adobe     Resume\n"
          ]
        },
        {
          "output_type": "stream",
          "name": "stderr",
          "text": [
            "Deprecation: 'getText' removed from class 'Page' after v1.19.0 - use 'get_text'.\n"
          ]
        }
      ]
    },
    {
      "cell_type": "code",
      "metadata": {
        "colab": {
          "base_uri": "https://localhost:8080/"
        },
        "id": "NJcPkb1KC0x7",
        "outputId": "dce27a11-f26c-4442-c263-393382adbbed"
      },
      "source": [
        "import sys,fitz\n",
        "doc=fitz.open('/content/s2.pdf')\n",
        "text = \"\"\n",
        "for page in doc:\n",
        "  text = text + str(page.getText())\n",
        "\n",
        "text= \" \".join(text.split('\\n'))\n",
        "doc = nlp_model(text)\n",
        "for ent in doc.ents:\n",
        "  print(f'{ent.label_.upper():{30}}-{ent.text}')"
      ],
      "execution_count": null,
      "outputs": [
        {
          "output_type": "stream",
          "name": "stdout",
          "text": [
            "DEGREE                        -Elizabeth Holmes   +1 (970) 333-3833\n",
            "DEGREE                        -Bachelor of Science: Automotive\n",
            "GRADUATION YEAR               -2014\n"
          ]
        },
        {
          "output_type": "stream",
          "name": "stderr",
          "text": [
            "Deprecation: 'getText' removed from class 'Page' after v1.19.0 - use 'get_text'.\n"
          ]
        }
      ]
    }
  ]
}